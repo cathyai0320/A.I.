{
  "nbformat": 4,
  "nbformat_minor": 0,
  "metadata": {
    "colab": {
      "provenance": [],
      "authorship_tag": "ABX9TyMd9dL5yBUpwHlhmvhhBjN8",
      "include_colab_link": true
    },
    "kernelspec": {
      "name": "python3",
      "display_name": "Python 3"
    },
    "language_info": {
      "name": "python"
    }
  },
  "cells": [
    {
      "cell_type": "markdown",
      "metadata": {
        "id": "view-in-github",
        "colab_type": "text"
      },
      "source": [
        "<a href=\"https://colab.research.google.com/github/cathyai0320/A.I./blob/main/TL%3BDR_(Catherine)_Logistic_Regression1.ipynb\" target=\"_parent\"><img src=\"https://colab.research.google.com/assets/colab-badge.svg\" alt=\"Open In Colab\"/></a>"
      ]
    },
    {
      "cell_type": "markdown",
      "source": [
        "# **`Diagnosing pancreatic cancer using Logistic Regression model`**\n",
        "Got an accuracy of 100 which is very dangerous for overfitting."
      ],
      "metadata": {
        "id": "uX1TcajgB35O"
      }
    },
    {
      "cell_type": "code",
      "execution_count": 14,
      "metadata": {
        "id": "PvGwaCY9eaSI"
      },
      "outputs": [],
      "source": [
        "from sklearn.model_selection import train_test_split\n",
        "from sklearn.pipeline import Pipeline\n",
        "from sklearn.compose import ColumnTransformer\n",
        "from sklearn.impute import SimpleImputer\n",
        "from sklearn.preprocessing import StandardScaler, OneHotEncoder\n",
        "from sklearn.linear_model import LogisticRegression\n",
        "from sklearn.metrics import accuracy_score, confusion_matrix, classification_report\n",
        "import matplotlib.pyplot as plt"
      ]
    },
    {
      "cell_type": "markdown",
      "source": [
        "**Understanding the nature of the data:**\n"
      ],
      "metadata": {
        "id": "vkar4DoTfGao"
      }
    },
    {
      "cell_type": "code",
      "source": [
        "file_path = '/content/Debernardi et al 2020 data.csv'\n",
        "data = pd.read_csv(file_path)"
      ],
      "metadata": {
        "id": "iRJ4HwDcDEeP"
      },
      "execution_count": 2,
      "outputs": []
    },
    {
      "cell_type": "code",
      "source": [
        "print(data.describe())"
      ],
      "metadata": {
        "id": "7l-ThDqEiwpX"
      },
      "execution_count": null,
      "outputs": []
    },
    {
      "cell_type": "code",
      "source": [
        "print(data.dtypes)"
      ],
      "metadata": {
        "id": "zTPqoh93jiNf"
      },
      "execution_count": null,
      "outputs": []
    },
    {
      "cell_type": "code",
      "source": [
        "print(data.head())"
      ],
      "metadata": {
        "id": "AdibUke-jpcv"
      },
      "execution_count": null,
      "outputs": []
    },
    {
      "cell_type": "markdown",
      "source": [
        "**Data Pre-processing:**"
      ],
      "metadata": {
        "id": "M0UBMnBCCg08"
      }
    },
    {
      "cell_type": "code",
      "source": [
        "# Separate input features and target\n",
        "X = data.drop('diagnosis', axis=1)\n",
        "y = data['diagnosis']"
      ],
      "metadata": {
        "id": "TtU7DvTTVi77"
      },
      "execution_count": 3,
      "outputs": []
    },
    {
      "cell_type": "code",
      "source": [
        "# Identify numerical and categorical columns\n",
        "num_cols = X.select_dtypes(include=np.number).columns.tolist()\n",
        "cat_cols = X.select_dtypes(exclude=np.number).columns.tolist()"
      ],
      "metadata": {
        "id": "ALYPDFDMVoi7"
      },
      "execution_count": 4,
      "outputs": []
    },
    {
      "cell_type": "code",
      "source": [
        "# Preprocessing pipelines for both numerical and categorical data\n",
        "num_preprocessor = Pipeline(steps=[\n",
        "    ('num_imputer', SimpleImputer(strategy='mean')),\n",
        "    ('scaler', StandardScaler())])\n",
        "\n",
        "cat_preprocessor = Pipeline(steps=[\n",
        "    ('cat_imputer', SimpleImputer(strategy='constant', fill_value='missing')),\n",
        "    ('onehot', OneHotEncoder(handle_unknown='ignore'))])\n",
        "\n",
        "preprocessor = ColumnTransformer(\n",
        "    transformers=[\n",
        "        ('num', num_preprocessor, num_cols),\n",
        "        ('cat', cat_preprocessor, cat_cols)])"
      ],
      "metadata": {
        "id": "Xa_gM2MJVtn7"
      },
      "execution_count": 8,
      "outputs": []
    },
    {
      "cell_type": "code",
      "source": [
        "# Append classifier to preprocessing pipeline\n",
        "clf = Pipeline(steps=[('preprocessor', preprocessor),\n",
        "                      ('classifier', LogisticRegression(solver='liblinear'))])"
      ],
      "metadata": {
        "id": "XBkNpMwcV5wI"
      },
      "execution_count": 9,
      "outputs": []
    },
    {
      "cell_type": "code",
      "source": [
        "# Split the dataset\n",
        "X_train, X_test, y_train, y_test = train_test_split(X, y, test_size=0.4, random_state=42)"
      ],
      "metadata": {
        "id": "mWkXwafdWJqg"
      },
      "execution_count": 12,
      "outputs": []
    },
    {
      "cell_type": "code",
      "source": [
        "# Fit the model\n",
        "clf.fit(X_train, y_train)\n",
        "\n",
        "# Predict and evaluate\n",
        "y_pred = clf.predict(X_test)\n",
        "\n",
        "print(\"Model accuracy: \", accuracy_score(y_test, y_pred))\n",
        "print(\"Confusion matrix: \\n\", confusion_matrix(y_test, y_pred))\n",
        "print(\"Classification report: \\n\", classification_report(y_test, y_pred))"
      ],
      "metadata": {
        "id": "Ujf1EiZDWRN3"
      },
      "execution_count": null,
      "outputs": []
    }
  ]
}